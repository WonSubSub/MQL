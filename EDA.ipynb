{
 "cells": [
  {
   "cell_type": "code",
   "execution_count": 3,
   "metadata": {},
   "outputs": [],
   "source": [
    "import pandas as pd\n",
    "import os\n",
    "\n",
    "data_path = './data'\n",
    "\n",
    "train = pd.read_csv(os.path.join(data_path, 'train.csv'))\n",
    "test = pd.read_csv(os.path.join(data_path, 'test.csv'))"
   ]
  },
  {
   "cell_type": "code",
   "execution_count": 4,
   "metadata": {},
   "outputs": [
    {
     "data": {
      "text/html": [
       "<div>\n",
       "<style scoped>\n",
       "    .dataframe tbody tr th:only-of-type {\n",
       "        vertical-align: middle;\n",
       "    }\n",
       "\n",
       "    .dataframe tbody tr th {\n",
       "        vertical-align: top;\n",
       "    }\n",
       "\n",
       "    .dataframe thead th {\n",
       "        text-align: right;\n",
       "    }\n",
       "</style>\n",
       "<table border=\"1\" class=\"dataframe\">\n",
       "  <thead>\n",
       "    <tr style=\"text-align: right;\">\n",
       "      <th></th>\n",
       "      <th>bant_submit</th>\n",
       "      <th>business_unit</th>\n",
       "      <th>customer_idx</th>\n",
       "      <th>customer_type</th>\n",
       "      <th>enterprise</th>\n",
       "      <th>historical_existing_cnt</th>\n",
       "      <th>customer_job</th>\n",
       "      <th>lead_desc_length</th>\n",
       "      <th>inquiry_type</th>\n",
       "      <th>product_category</th>\n",
       "      <th>product_subcategory</th>\n",
       "      <th>product_modelname</th>\n",
       "      <th>customer_position</th>\n",
       "      <th>response_corporate</th>\n",
       "      <th>expected_timeline</th>\n",
       "      <th>business_area</th>\n",
       "      <th>business_subarea</th>\n",
       "      <th>lead_owner</th>\n",
       "      <th>is_converted</th>\n",
       "    </tr>\n",
       "  </thead>\n",
       "  <tbody>\n",
       "    <tr>\n",
       "      <th>0</th>\n",
       "      <td>1.0</td>\n",
       "      <td>AS</td>\n",
       "      <td>32160</td>\n",
       "      <td>End-Customer</td>\n",
       "      <td>Enterprise</td>\n",
       "      <td>NaN</td>\n",
       "      <td>purchasing</td>\n",
       "      <td>62</td>\n",
       "      <td>Quotation or purchase consultation</td>\n",
       "      <td>multi-split</td>\n",
       "      <td>NaN</td>\n",
       "      <td>NaN</td>\n",
       "      <td>entry level</td>\n",
       "      <td>LGEPH</td>\n",
       "      <td>less than 3 months</td>\n",
       "      <td>corporate / office</td>\n",
       "      <td>Engineering</td>\n",
       "      <td>0</td>\n",
       "      <td>True</td>\n",
       "    </tr>\n",
       "    <tr>\n",
       "      <th>1</th>\n",
       "      <td>1.0</td>\n",
       "      <td>AS</td>\n",
       "      <td>23122</td>\n",
       "      <td>End-Customer</td>\n",
       "      <td>Enterprise</td>\n",
       "      <td>12.0</td>\n",
       "      <td>media and communication</td>\n",
       "      <td>96</td>\n",
       "      <td>Quotation or purchase consultation</td>\n",
       "      <td>multi-split</td>\n",
       "      <td>NaN</td>\n",
       "      <td>NaN</td>\n",
       "      <td>ceo/founder</td>\n",
       "      <td>LGEPH</td>\n",
       "      <td>less than 3 months</td>\n",
       "      <td>corporate / office</td>\n",
       "      <td>Advertising</td>\n",
       "      <td>1</td>\n",
       "      <td>True</td>\n",
       "    </tr>\n",
       "    <tr>\n",
       "      <th>2</th>\n",
       "      <td>1.0</td>\n",
       "      <td>AS</td>\n",
       "      <td>1755</td>\n",
       "      <td>End-Customer</td>\n",
       "      <td>Enterprise</td>\n",
       "      <td>144.0</td>\n",
       "      <td>engineering</td>\n",
       "      <td>56</td>\n",
       "      <td>Product Information</td>\n",
       "      <td>single-split</td>\n",
       "      <td>NaN</td>\n",
       "      <td>NaN</td>\n",
       "      <td>partner</td>\n",
       "      <td>LGEIL</td>\n",
       "      <td>less than 3 months</td>\n",
       "      <td>corporate / office</td>\n",
       "      <td>Construction</td>\n",
       "      <td>2</td>\n",
       "      <td>True</td>\n",
       "    </tr>\n",
       "    <tr>\n",
       "      <th>3</th>\n",
       "      <td>1.0</td>\n",
       "      <td>AS</td>\n",
       "      <td>4919</td>\n",
       "      <td>End-Customer</td>\n",
       "      <td>Enterprise</td>\n",
       "      <td>NaN</td>\n",
       "      <td>entrepreneurship</td>\n",
       "      <td>44</td>\n",
       "      <td>Quotation or purchase consultation</td>\n",
       "      <td>vrf</td>\n",
       "      <td>NaN</td>\n",
       "      <td>NaN</td>\n",
       "      <td>ceo/founder</td>\n",
       "      <td>LGEIL</td>\n",
       "      <td>less than 3 months</td>\n",
       "      <td>corporate / office</td>\n",
       "      <td>IT/Software</td>\n",
       "      <td>3</td>\n",
       "      <td>True</td>\n",
       "    </tr>\n",
       "    <tr>\n",
       "      <th>4</th>\n",
       "      <td>1.0</td>\n",
       "      <td>AS</td>\n",
       "      <td>17126</td>\n",
       "      <td>Specifier/ Influencer</td>\n",
       "      <td>Enterprise</td>\n",
       "      <td>NaN</td>\n",
       "      <td>consulting</td>\n",
       "      <td>97</td>\n",
       "      <td>Quotation or purchase consultation</td>\n",
       "      <td>multi-split</td>\n",
       "      <td>NaN</td>\n",
       "      <td>NaN</td>\n",
       "      <td>partner</td>\n",
       "      <td>LGEIL</td>\n",
       "      <td>less than 3 months</td>\n",
       "      <td>corporate / office</td>\n",
       "      <td>NaN</td>\n",
       "      <td>4</td>\n",
       "      <td>True</td>\n",
       "    </tr>\n",
       "  </tbody>\n",
       "</table>\n",
       "</div>"
      ],
      "text/plain": [
       "   bant_submit business_unit  customer_idx          customer_type  enterprise  \\\n",
       "0          1.0            AS         32160           End-Customer  Enterprise   \n",
       "1          1.0            AS         23122           End-Customer  Enterprise   \n",
       "2          1.0            AS          1755           End-Customer  Enterprise   \n",
       "3          1.0            AS          4919           End-Customer  Enterprise   \n",
       "4          1.0            AS         17126  Specifier/ Influencer  Enterprise   \n",
       "\n",
       "   historical_existing_cnt             customer_job  lead_desc_length  \\\n",
       "0                      NaN               purchasing                62   \n",
       "1                     12.0  media and communication                96   \n",
       "2                    144.0              engineering                56   \n",
       "3                      NaN         entrepreneurship                44   \n",
       "4                      NaN               consulting                97   \n",
       "\n",
       "                         inquiry_type product_category product_subcategory  \\\n",
       "0  Quotation or purchase consultation      multi-split                 NaN   \n",
       "1  Quotation or purchase consultation      multi-split                 NaN   \n",
       "2                 Product Information     single-split                 NaN   \n",
       "3  Quotation or purchase consultation              vrf                 NaN   \n",
       "4  Quotation or purchase consultation      multi-split                 NaN   \n",
       "\n",
       "  product_modelname customer_position response_corporate   expected_timeline  \\\n",
       "0               NaN       entry level              LGEPH  less than 3 months   \n",
       "1               NaN       ceo/founder              LGEPH  less than 3 months   \n",
       "2               NaN           partner              LGEIL  less than 3 months   \n",
       "3               NaN       ceo/founder              LGEIL  less than 3 months   \n",
       "4               NaN           partner              LGEIL  less than 3 months   \n",
       "\n",
       "        business_area business_subarea  lead_owner  is_converted  \n",
       "0  corporate / office      Engineering           0          True  \n",
       "1  corporate / office      Advertising           1          True  \n",
       "2  corporate / office     Construction           2          True  \n",
       "3  corporate / office      IT/Software           3          True  \n",
       "4  corporate / office              NaN           4          True  "
      ]
     },
     "execution_count": 4,
     "metadata": {},
     "output_type": "execute_result"
    }
   ],
   "source": [
    "train.head()"
   ]
  },
  {
   "cell_type": "code",
   "execution_count": 10,
   "metadata": {},
   "outputs": [
    {
     "name": "stdout",
     "output_type": "stream",
     "text": [
      "bant_submit 컬럼의 결측값은 전체의 0%\n",
      "business_unit 컬럼의 결측값은 전체의 0%\n",
      "customer_idx 컬럼의 결측값은 전체의 0%\n",
      "customer_type 컬럼의 결측값은 전체의 74%\n",
      "enterprise 컬럼의 결측값은 전체의 0%\n",
      "historical_existing_cnt 컬럼의 결측값은 전체의 77%\n",
      "customer_job 컬럼의 결측값은 전체의 32%\n",
      "lead_desc_length 컬럼의 결측값은 전체의 0%\n",
      "inquiry_type 컬럼의 결측값은 전체의 2%\n",
      "product_category 컬럼의 결측값은 전체의 33%\n",
      "product_subcategory 컬럼의 결측값은 전체의 84%\n",
      "product_modelname 컬럼의 결측값은 전체의 84%\n",
      "customer_position 컬럼의 결측값은 전체의 0%\n",
      "response_corporate 컬럼의 결측값은 전체의 0%\n",
      "expected_timeline 컬럼의 결측값은 전체의 52%\n",
      "business_area 컬럼의 결측값은 전체의 69%\n",
      "business_subarea 컬럼의 결측값은 전체의 91%\n",
      "lead_owner 컬럼의 결측값은 전체의 0%\n",
      "is_converted 컬럼의 결측값은 전체의 0%\n"
     ]
    }
   ],
   "source": [
    "for column in train.columns:\n",
    "    print(f'{column} 컬럼의 결측값은 전체의 {train[column].isna().mean() * 100:.0f}%')"
   ]
  },
  {
   "cell_type": "code",
   "execution_count": 11,
   "metadata": {},
   "outputs": [
    {
     "data": {
      "text/plain": [
       "47466    7686\n",
       "25096    2421\n",
       "37680     367\n",
       "18030     331\n",
       "21321     162\n",
       "         ... \n",
       "39487       1\n",
       "41241       1\n",
       "39422       1\n",
       "22515       1\n",
       "30268       1\n",
       "Name: customer_idx, Length: 35112, dtype: int64"
      ]
     },
     "execution_count": 11,
     "metadata": {},
     "output_type": "execute_result"
    }
   ],
   "source": [
    "train['customer_idx'].value_counts()"
   ]
  },
  {
   "cell_type": "code",
   "execution_count": 16,
   "metadata": {},
   "outputs": [
    {
     "data": {
      "text/plain": [
       "0.08178890031872375"
      ]
     },
     "execution_count": 16,
     "metadata": {},
     "output_type": "execute_result"
    }
   ],
   "source": [
    "train['is_converted'].mean()"
   ]
  },
  {
   "cell_type": "markdown",
   "metadata": {},
   "source": [
    "## customer_idx 컬럼"
   ]
  },
  {
   "cell_type": "code",
   "execution_count": 24,
   "metadata": {},
   "outputs": [
    {
     "data": {
      "text/html": [
       "<div>\n",
       "<style scoped>\n",
       "    .dataframe tbody tr th:only-of-type {\n",
       "        vertical-align: middle;\n",
       "    }\n",
       "\n",
       "    .dataframe tbody tr th {\n",
       "        vertical-align: top;\n",
       "    }\n",
       "\n",
       "    .dataframe thead th {\n",
       "        text-align: right;\n",
       "    }\n",
       "</style>\n",
       "<table border=\"1\" class=\"dataframe\">\n",
       "  <thead>\n",
       "    <tr style=\"text-align: right;\">\n",
       "      <th></th>\n",
       "      <th>customer_idx</th>\n",
       "      <th>count</th>\n",
       "      <th>mean</th>\n",
       "    </tr>\n",
       "  </thead>\n",
       "  <tbody>\n",
       "    <tr>\n",
       "      <th>0</th>\n",
       "      <td>47466</td>\n",
       "      <td>7686</td>\n",
       "      <td>0.008717</td>\n",
       "    </tr>\n",
       "    <tr>\n",
       "      <th>1</th>\n",
       "      <td>25096</td>\n",
       "      <td>2421</td>\n",
       "      <td>1.000000</td>\n",
       "    </tr>\n",
       "    <tr>\n",
       "      <th>2</th>\n",
       "      <td>37680</td>\n",
       "      <td>367</td>\n",
       "      <td>0.010899</td>\n",
       "    </tr>\n",
       "    <tr>\n",
       "      <th>3</th>\n",
       "      <td>18030</td>\n",
       "      <td>331</td>\n",
       "      <td>0.003021</td>\n",
       "    </tr>\n",
       "    <tr>\n",
       "      <th>4</th>\n",
       "      <td>21321</td>\n",
       "      <td>162</td>\n",
       "      <td>0.006173</td>\n",
       "    </tr>\n",
       "    <tr>\n",
       "      <th>5</th>\n",
       "      <td>33350</td>\n",
       "      <td>135</td>\n",
       "      <td>0.000000</td>\n",
       "    </tr>\n",
       "    <tr>\n",
       "      <th>6</th>\n",
       "      <td>43395</td>\n",
       "      <td>91</td>\n",
       "      <td>0.000000</td>\n",
       "    </tr>\n",
       "    <tr>\n",
       "      <th>7</th>\n",
       "      <td>25309</td>\n",
       "      <td>90</td>\n",
       "      <td>0.000000</td>\n",
       "    </tr>\n",
       "    <tr>\n",
       "      <th>8</th>\n",
       "      <td>33763</td>\n",
       "      <td>88</td>\n",
       "      <td>0.000000</td>\n",
       "    </tr>\n",
       "    <tr>\n",
       "      <th>9</th>\n",
       "      <td>32240</td>\n",
       "      <td>84</td>\n",
       "      <td>0.011905</td>\n",
       "    </tr>\n",
       "  </tbody>\n",
       "</table>\n",
       "</div>"
      ],
      "text/plain": [
       "   customer_idx  count      mean\n",
       "0         47466   7686  0.008717\n",
       "1         25096   2421  1.000000\n",
       "2         37680    367  0.010899\n",
       "3         18030    331  0.003021\n",
       "4         21321    162  0.006173\n",
       "5         33350    135  0.000000\n",
       "6         43395     91  0.000000\n",
       "7         25309     90  0.000000\n",
       "8         33763     88  0.000000\n",
       "9         32240     84  0.011905"
      ]
     },
     "execution_count": 24,
     "metadata": {},
     "output_type": "execute_result"
    }
   ],
   "source": [
    "train.groupby('customer_idx')['is_converted'].agg(['count', 'mean']).reset_index().sort_values(by='count', ascending=False).reset_index(drop=True).head(10)"
   ]
  },
  {
   "cell_type": "code",
   "execution_count": 37,
   "metadata": {},
   "outputs": [
    {
     "name": "stdout",
     "output_type": "stream",
     "text": [
      "<class 'pandas.core.series.Series'>\n",
      "Int64Index: 2421 entries, 405 to 53491\n",
      "Series name: customer_type\n",
      "Non-Null Count  Dtype \n",
      "--------------  ----- \n",
      "0 non-null      object\n",
      "dtypes: object(1)\n",
      "memory usage: 37.8+ KB\n"
     ]
    }
   ],
   "source": [
    "train[train['customer_idx']==25096]['customer_type'].info()"
   ]
  },
  {
   "cell_type": "markdown",
   "metadata": {},
   "source": [
    "## customer_type 컬럼"
   ]
  },
  {
   "cell_type": "code",
   "execution_count": 42,
   "metadata": {},
   "outputs": [
    {
     "data": {
      "text/plain": [
       "End-Customer              6647\n",
       "End Customer              3996\n",
       "Specifier/ Influencer     2525\n",
       "Channel Partner           1368\n",
       "Service Partner            349\n",
       "Solution Eco-Partner       146\n",
       "Installer/Contractor        52\n",
       "Specifier / Influencer      43\n",
       "Corporate                   31\n",
       "HVAC Engineer               23\n",
       "Name: customer_type, dtype: int64"
      ]
     },
     "execution_count": 42,
     "metadata": {},
     "output_type": "execute_result"
    }
   ],
   "source": [
    "train['customer_type'].value_counts().head(10)"
   ]
  },
  {
   "cell_type": "code",
   "execution_count": 44,
   "metadata": {},
   "outputs": [
    {
     "data": {
      "text/plain": [
       "59299"
      ]
     },
     "execution_count": 44,
     "metadata": {},
     "output_type": "execute_result"
    }
   ],
   "source": [
    "len(train)"
   ]
  },
  {
   "cell_type": "code",
   "execution_count": 43,
   "metadata": {},
   "outputs": [
    {
     "data": {
      "text/plain": [
       "43961"
      ]
     },
     "execution_count": 43,
     "metadata": {},
     "output_type": "execute_result"
    }
   ],
   "source": [
    "train['customer_type'].isna().sum()"
   ]
  },
  {
   "cell_type": "code",
   "execution_count": 48,
   "metadata": {},
   "outputs": [
    {
     "data": {
      "text/plain": [
       "False    0.934123\n",
       "True     0.065877\n",
       "Name: is_converted, dtype: float64"
      ]
     },
     "execution_count": 48,
     "metadata": {},
     "output_type": "execute_result"
    }
   ],
   "source": [
    "train[train['customer_type'].isna()]['is_converted'].value_counts(normalize=True)"
   ]
  },
  {
   "cell_type": "code",
   "execution_count": 49,
   "metadata": {},
   "outputs": [
    {
     "data": {
      "text/plain": [
       "False    0.872604\n",
       "True     0.127396\n",
       "Name: is_converted, dtype: float64"
      ]
     },
     "execution_count": 49,
     "metadata": {},
     "output_type": "execute_result"
    }
   ],
   "source": [
    "train[~train['customer_type'].isna()]['is_converted'].value_counts(normalize=True)"
   ]
  }
 ],
 "metadata": {
  "kernelspec": {
   "display_name": "aimers",
   "language": "python",
   "name": "aimers"
  },
  "language_info": {
   "codemirror_mode": {
    "name": "ipython",
    "version": 3
   },
   "file_extension": ".py",
   "mimetype": "text/x-python",
   "name": "python",
   "nbconvert_exporter": "python",
   "pygments_lexer": "ipython3",
   "version": "3.8.18"
  }
 },
 "nbformat": 4,
 "nbformat_minor": 2
}

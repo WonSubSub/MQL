{
 "cells": [
  {
   "cell_type": "code",
   "execution_count": 35,
   "metadata": {},
   "outputs": [],
   "source": [
    "import pandas as pd\n",
    "from dash import Dash, dcc, html, Input, Output, State, ALL, MATCH\n",
    "from dash import callback_context as ctx\n",
    "import dash_bootstrap_components as dbc\n",
    "import plotly.express as px\n",
    "import json\n",
    "\n",
    "df = pd.read_csv('data/train.csv')\n",
    "\n",
    "columns = list(df.columns)\n",
    "numeric_column = ['bant_submit', 'historical_existing_cnt', 'lead_desc_length']\n",
    "target_column = [columns[-1]]\n",
    "categorical_column = [col for col in columns[:-1] if col not in numeric_column]\n",
    "column_dict = {'target': target_column, 'categorical': categorical_column, 'numeric': numeric_column}"
   ]
  },
  {
   "cell_type": "code",
   "execution_count": 36,
   "metadata": {},
   "outputs": [],
   "source": [
    "def generate_table(column_type):\n",
    "    choosed_columns = column_dict[column_type]\n",
    "    column_contents = ['Column_Name', 'Description', 'Dtype', 'Null_Percentage']\n",
    "\n",
    "    table = html.Table([\n",
    "                        html.Thead(\n",
    "                            html.Tr([html.Th(col) for col in column_contents])\n",
    "                        ),\n",
    "                        html.Tbody([\n",
    "                            html.Tr([html.Td(s) for s in [\n",
    "                                dbc.Button(col, id={\"type\": \"button\", \"id\": col}), col, str(df[col].dtype), round(df.isna().sum()[col]/len(df), 2)\n",
    "                            ]]) for col in choosed_columns])\n",
    "                        ])\n",
    "    \n",
    "    return table"
   ]
  },
  {
   "cell_type": "code",
   "execution_count": 37,
   "metadata": {},
   "outputs": [
    {
     "data": {
      "text/html": [
       "\n",
       "        <iframe\n",
       "            width=\"100%\"\n",
       "            height=\"650\"\n",
       "            src=\"http://127.0.0.1:8050/\"\n",
       "            frameborder=\"0\"\n",
       "            allowfullscreen\n",
       "            \n",
       "        ></iframe>\n",
       "        "
      ],
      "text/plain": [
       "<IPython.lib.display.IFrame at 0x23b9c733100>"
      ]
     },
     "metadata": {},
     "output_type": "display_data"
    }
   ],
   "source": [
    "app = Dash(external_stylesheets=[dbc.themes.BOOTSTRAP], suppress_callback_exceptions=True)\n",
    "\n",
    "column_types = ['target', 'categorical', 'numeric']\n",
    "\n",
    "tabs = html.Div([\n",
    "    dbc.Tabs(\n",
    "        [dbc.Tab(label=col_type.title(), tab_id=col_type) for col_type in column_types],\n",
    "        id='tabs',\n",
    "        active_tab=column_types[0],\n",
    "    ),\n",
    "    html.Div([html.Table(id='content')]),\n",
    "], style={'width': '49%'})\n",
    "\n",
    "graph = html.Div([\n",
    "       dcc.Store(id='selected_column'), html.Span(id='fig')\n",
    "    ], style={'width': '49%', 'float': 'right'})\n",
    "\n",
    "app.layout=html.Div([tabs,\n",
    "                     graph,\n",
    "                     ])\n",
    "\n",
    "@app.callback(\n",
    "    Output('content', 'children'),\n",
    "    Input('tabs', 'active_tab')\n",
    ")\n",
    "def switch_tab(column_type):\n",
    "    return generate_table(column_type)\n",
    "\n",
    "@app.callback(\n",
    "    Output('selected_column', 'data'),\n",
    "    Input({\"type\": \"button\", \"id\": ALL}, \"n_clicks\"),\n",
    ")\n",
    "def get_triggered_column(clicks):\n",
    "    if not any(clicks):\n",
    "        return None\n",
    "    \n",
    "    triggered_id = ctx.triggered[0][\"prop_id\"].split(\".\")[0]\n",
    "    triggered_column = json.loads(triggered_id)['id']\n",
    "\n",
    "    return triggered_column\n",
    "        \n",
    "@app.callback(\n",
    "    Output('fig', 'children'),\n",
    "    Input('selected_column', 'data'),\n",
    "    Input('tabs', 'active_tab'),\n",
    ")\n",
    "def set_display_children(selected_column, selected_column_type):\n",
    "    if selected_column == None:\n",
    "        return 'please select a column'\n",
    "    \n",
    "    return f'you choosed {selected_column} from {selected_column_type} column'\n",
    "\n",
    "app.run(debug=True)"
   ]
  }
 ],
 "metadata": {
  "kernelspec": {
   "display_name": "airmers",
   "language": "python",
   "name": "python3"
  },
  "language_info": {
   "codemirror_mode": {
    "name": "ipython",
    "version": 3
   },
   "file_extension": ".py",
   "mimetype": "text/x-python",
   "name": "python",
   "nbconvert_exporter": "python",
   "pygments_lexer": "ipython3",
   "version": "3.8.20"
  }
 },
 "nbformat": 4,
 "nbformat_minor": 2
}

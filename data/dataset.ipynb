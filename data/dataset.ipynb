{
 "cells": [
  {
   "cell_type": "code",
   "execution_count": 42,
   "metadata": {},
   "outputs": [],
   "source": [
    "import pandas as pd\n",
    "from sklearn.model_selection import train_test_split\n",
    "\n",
    "train = pd.read_csv('train.csv')\n",
    "test = pd.read_csv('test.csv')"
   ]
  },
  {
   "cell_type": "code",
   "execution_count": 59,
   "metadata": {},
   "outputs": [],
   "source": [
    "ct_train = train[~train['customer_type'].isna()]\n",
    "non_ct_train = train[train['customer_type'].isna()]\n",
    "\n",
    "ct_train_set, ct_val_set = train_test_split(ct_train, test_size=0.1, random_state=42, shuffle=True, stratify=ct_train['is_converted'])\n",
    "non_ct_train_set, non_ct_val_set = train_test_split(non_ct_train, test_size=0.1, random_state=42, shuffle=True, stratify=non_ct_train['is_converted'])\n",
    "\n",
    "train_set = pd.concat([ct_train_set, non_ct_train_set], axis=0)\n",
    "val_set = pd.concat([ct_val_set, non_ct_val_set], axis=0)"
   ]
  },
  {
   "cell_type": "code",
   "execution_count": 61,
   "metadata": {},
   "outputs": [],
   "source": [
    "train_set.to_csv('train_set.csv', index_label='idx')\n",
    "val_set.to_csv('val_set.csv', index_label='idx')\n",
    "ct_train_set.to_csv('ct_train_set.csv', index_label='idx')\n",
    "ct_val_set.to_csv('ct_val_set.csv', index_label='idx')"
   ]
  }
 ],
 "metadata": {
  "kernelspec": {
   "display_name": "aimers",
   "language": "python",
   "name": "aimers"
  },
  "language_info": {
   "codemirror_mode": {
    "name": "ipython",
    "version": 3
   },
   "file_extension": ".py",
   "mimetype": "text/x-python",
   "name": "python",
   "nbconvert_exporter": "python",
   "pygments_lexer": "ipython3",
   "version": "3.8.18"
  }
 },
 "nbformat": 4,
 "nbformat_minor": 2
}
